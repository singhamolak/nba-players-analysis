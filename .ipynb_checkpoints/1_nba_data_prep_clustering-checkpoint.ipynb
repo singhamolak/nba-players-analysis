{
 "cells": [
  {
   "cell_type": "markdown",
   "metadata": {},
   "source": [
    "# Analyzing NBA Salaries in relation to performance: finding the most overpaid and underpaid \n",
    "\n",
    "## Amolak Singh"
   ]
  },
  {
   "cell_type": "markdown",
   "metadata": {},
   "source": [
    "The goal of this mini-project is to determine which NBA players will be overpaid and underpaid in the 2018-19 season relative to their performance the prior season. In the past, the NBA may have payed players based more on reputation and less informative statistics but nowadays the use of advanced analytics is more common. The methodology of this project is as follows:\n",
    "* 1st notebook: 1_nba_data_prep_clustering.ipynb\n",
    "  1. We will use some advanced analytics pulled from *basketball-reference.com* to cluster players into several different groups based on their performance in the 2017-18 season. This will allow us to group similar players together so we can do more apple to apple comparisions when analyzing their salaries.\n",
    "  2. After creating the group labels, we will pull salary information from *basketball-reference.com* and clean that data to join with the data above.\n",
    "* 2nd notebook: 2_nba_results_analysis_clean.ipynb\n",
    "  3. We wil analyze the salaries in relation to performance. Within each cluster, we will calculate the percentile/rank of each player salary. Players in the bottom quartile will be considered underpaid relative to their performance and players in the upper quartile will be considered overpaid relative to their performance.\n",
    "  4. We will finish with a simple regression analysis and some final conclusions."
   ]
  },
  {
   "cell_type": "markdown",
   "metadata": {},
   "source": [
    "### Imports"
   ]
  },
  {
   "cell_type": "code",
   "execution_count": 1,
   "metadata": {
    "collapsed": true
   },
   "outputs": [],
   "source": [
    "from urllib.request import urlopen\n",
    "from bs4 import BeautifulSoup\n",
    "import pandas as pd\n",
    "from sklearn.preprocessing import scale,StandardScaler\n",
    "from sklearn.pipeline import make_pipeline\n",
    "from sklearn.cluster import KMeans\n",
    "\n",
    "import warnings\n",
    "warnings.filterwarnings('ignore')"
   ]
  },
  {
   "cell_type": "markdown",
   "metadata": {},
   "source": [
    "### Variables to be used later"
   ]
  },
  {
   "cell_type": "code",
   "execution_count": 2,
   "metadata": {
    "collapsed": true
   },
   "outputs": [],
   "source": [
    "year = 2018\n",
    "url = 'https://www.basketball-reference.com/leagues/NBA_{}_advanced.html'.format(year)\n",
    "salary_url = 'https://www.basketball-reference.com/contracts/players.html'\n",
    "seed = 6\n",
    "clusters = 10"
   ]
  },
  {
   "cell_type": "code",
   "execution_count": 3,
   "metadata": {
    "collapsed": true
   },
   "outputs": [],
   "source": [
    "not_yet_num_cols = ['Age','G','MP','PER','TS%','3PAr','FTr','ORB%','DRB%','TRB%',\n",
    "                    'AST%','STL%','BLK%','TOV%','USG%','OWS','DWS','WS','WS/48',\n",
    "                    'OBPM','DBPM','BPM','VORP']\n",
    "df_interesting_variables = ['TS%','3PAr','FTr','ORB%','DRB%','TRB%','AST%','STL%',\n",
    "                            'BLK%','TOV%','USG%','OWS','DWS','WS','WS/48','OBPM',\n",
    "                            'DBPM','BPM', 'VORP']"
   ]
  },
  {
   "cell_type": "markdown",
   "metadata": {},
   "source": [
    "### Pulling the player analytics with BeautifulSoup"
   ]
  },
  {
   "cell_type": "code",
   "execution_count": 4,
   "metadata": {
    "collapsed": true
   },
   "outputs": [],
   "source": [
    "html = urlopen(url)\n",
    "soup = BeautifulSoup(html,\"lxml\")\n",
    "cols = [th.getText() for th in soup.findAll('tr',limit=3)[0].findAll('th')]\n",
    "cols.remove('Rk')"
   ]
  },
  {
   "cell_type": "code",
   "execution_count": 5,
   "metadata": {
    "collapsed": true
   },
   "outputs": [],
   "source": [
    "rows = soup.findAll('tr')[1:]\n",
    "dat = [[td.getText() for td in rows[i].findAll('td')] for i in (range(len(rows)))]\n",
    "df = pd.DataFrame(dat,columns=cols)"
   ]
  },
  {
   "cell_type": "code",
   "execution_count": 6,
   "metadata": {},
   "outputs": [
    {
     "data": {
      "text/html": [
       "<div>\n",
       "<style>\n",
       "    .dataframe thead tr:only-child th {\n",
       "        text-align: right;\n",
       "    }\n",
       "\n",
       "    .dataframe thead th {\n",
       "        text-align: left;\n",
       "    }\n",
       "\n",
       "    .dataframe tbody tr th {\n",
       "        vertical-align: top;\n",
       "    }\n",
       "</style>\n",
       "<table border=\"1\" class=\"dataframe\">\n",
       "  <thead>\n",
       "    <tr style=\"text-align: right;\">\n",
       "      <th></th>\n",
       "      <th>index</th>\n",
       "      <th>Player</th>\n",
       "      <th>Pos</th>\n",
       "      <th>Tm</th>\n",
       "      <th>Age</th>\n",
       "      <th>G</th>\n",
       "      <th>MP</th>\n",
       "      <th>PER</th>\n",
       "      <th>TS%</th>\n",
       "      <th>3PAr</th>\n",
       "      <th>...</th>\n",
       "      <th>TOV%</th>\n",
       "      <th>USG%</th>\n",
       "      <th>OWS</th>\n",
       "      <th>DWS</th>\n",
       "      <th>WS</th>\n",
       "      <th>WS/48</th>\n",
       "      <th>OBPM</th>\n",
       "      <th>DBPM</th>\n",
       "      <th>BPM</th>\n",
       "      <th>VORP</th>\n",
       "    </tr>\n",
       "  </thead>\n",
       "  <tbody>\n",
       "    <tr>\n",
       "      <th>0</th>\n",
       "      <td>0</td>\n",
       "      <td>Alex Abrines</td>\n",
       "      <td>SG</td>\n",
       "      <td>OKC</td>\n",
       "      <td>24.0</td>\n",
       "      <td>75.0</td>\n",
       "      <td>1134.0</td>\n",
       "      <td>9.0</td>\n",
       "      <td>0.567</td>\n",
       "      <td>0.759</td>\n",
       "      <td>...</td>\n",
       "      <td>7.4</td>\n",
       "      <td>12.7</td>\n",
       "      <td>1.3</td>\n",
       "      <td>1.0</td>\n",
       "      <td>2.2</td>\n",
       "      <td>0.094</td>\n",
       "      <td>-0.5</td>\n",
       "      <td>-1.7</td>\n",
       "      <td>-2.2</td>\n",
       "      <td>-0.1</td>\n",
       "    </tr>\n",
       "    <tr>\n",
       "      <th>1</th>\n",
       "      <td>1</td>\n",
       "      <td>Quincy Acy</td>\n",
       "      <td>PF</td>\n",
       "      <td>BRK</td>\n",
       "      <td>27.0</td>\n",
       "      <td>70.0</td>\n",
       "      <td>1359.0</td>\n",
       "      <td>8.2</td>\n",
       "      <td>0.525</td>\n",
       "      <td>0.800</td>\n",
       "      <td>...</td>\n",
       "      <td>13.3</td>\n",
       "      <td>14.4</td>\n",
       "      <td>-0.1</td>\n",
       "      <td>1.1</td>\n",
       "      <td>1.0</td>\n",
       "      <td>0.036</td>\n",
       "      <td>-2.0</td>\n",
       "      <td>-0.2</td>\n",
       "      <td>-2.2</td>\n",
       "      <td>-0.1</td>\n",
       "    </tr>\n",
       "    <tr>\n",
       "      <th>2</th>\n",
       "      <td>2</td>\n",
       "      <td>Steven Adams</td>\n",
       "      <td>C</td>\n",
       "      <td>OKC</td>\n",
       "      <td>24.0</td>\n",
       "      <td>76.0</td>\n",
       "      <td>2487.0</td>\n",
       "      <td>20.6</td>\n",
       "      <td>0.630</td>\n",
       "      <td>0.003</td>\n",
       "      <td>...</td>\n",
       "      <td>13.2</td>\n",
       "      <td>16.7</td>\n",
       "      <td>6.7</td>\n",
       "      <td>3.0</td>\n",
       "      <td>9.7</td>\n",
       "      <td>0.187</td>\n",
       "      <td>2.2</td>\n",
       "      <td>1.1</td>\n",
       "      <td>3.3</td>\n",
       "      <td>3.3</td>\n",
       "    </tr>\n",
       "    <tr>\n",
       "      <th>3</th>\n",
       "      <td>3</td>\n",
       "      <td>Bam Adebayo</td>\n",
       "      <td>C</td>\n",
       "      <td>MIA</td>\n",
       "      <td>20.0</td>\n",
       "      <td>69.0</td>\n",
       "      <td>1368.0</td>\n",
       "      <td>15.7</td>\n",
       "      <td>0.570</td>\n",
       "      <td>0.021</td>\n",
       "      <td>...</td>\n",
       "      <td>13.6</td>\n",
       "      <td>15.9</td>\n",
       "      <td>2.3</td>\n",
       "      <td>1.9</td>\n",
       "      <td>4.2</td>\n",
       "      <td>0.148</td>\n",
       "      <td>-1.6</td>\n",
       "      <td>1.8</td>\n",
       "      <td>0.2</td>\n",
       "      <td>0.8</td>\n",
       "    </tr>\n",
       "    <tr>\n",
       "      <th>4</th>\n",
       "      <td>6</td>\n",
       "      <td>LaMarcus Aldridge</td>\n",
       "      <td>C</td>\n",
       "      <td>SAS</td>\n",
       "      <td>32.0</td>\n",
       "      <td>75.0</td>\n",
       "      <td>2509.0</td>\n",
       "      <td>25.0</td>\n",
       "      <td>0.570</td>\n",
       "      <td>0.068</td>\n",
       "      <td>...</td>\n",
       "      <td>6.8</td>\n",
       "      <td>29.1</td>\n",
       "      <td>7.4</td>\n",
       "      <td>3.5</td>\n",
       "      <td>10.9</td>\n",
       "      <td>0.209</td>\n",
       "      <td>3.0</td>\n",
       "      <td>0.3</td>\n",
       "      <td>3.3</td>\n",
       "      <td>3.3</td>\n",
       "    </tr>\n",
       "  </tbody>\n",
       "</table>\n",
       "<p>5 rows × 27 columns</p>\n",
       "</div>"
      ],
      "text/plain": [
       "   index             Player Pos   Tm   Age     G      MP   PER    TS%   3PAr  \\\n",
       "0      0       Alex Abrines  SG  OKC  24.0  75.0  1134.0   9.0  0.567  0.759   \n",
       "1      1         Quincy Acy  PF  BRK  27.0  70.0  1359.0   8.2  0.525  0.800   \n",
       "2      2       Steven Adams   C  OKC  24.0  76.0  2487.0  20.6  0.630  0.003   \n",
       "3      3        Bam Adebayo   C  MIA  20.0  69.0  1368.0  15.7  0.570  0.021   \n",
       "4      6  LaMarcus Aldridge   C  SAS  32.0  75.0  2509.0  25.0  0.570  0.068   \n",
       "\n",
       "   ...   TOV%  USG%  OWS  DWS    WS  WS/48  OBPM  DBPM  BPM  VORP  \n",
       "0  ...    7.4  12.7  1.3  1.0   2.2  0.094  -0.5  -1.7 -2.2  -0.1  \n",
       "1  ...   13.3  14.4 -0.1  1.1   1.0  0.036  -2.0  -0.2 -2.2  -0.1  \n",
       "2  ...   13.2  16.7  6.7  3.0   9.7  0.187   2.2   1.1  3.3   3.3  \n",
       "3  ...   13.6  15.9  2.3  1.9   4.2  0.148  -1.6   1.8  0.2   0.8  \n",
       "4  ...    6.8  29.1  7.4  3.5  10.9  0.209   3.0   0.3  3.3   3.3  \n",
       "\n",
       "[5 rows x 27 columns]"
      ]
     },
     "execution_count": 6,
     "metadata": {},
     "output_type": "execute_result"
    }
   ],
   "source": [
    "df = pd.concat([df[['Player','Pos','Tm',]], df[not_yet_num_cols].apply(pd.to_numeric, errors='ignore')], axis=1)\n",
    "# removed players who played less than 50 games,  played less than 800 minutes, and had a negative win \n",
    "# share impact (per game)\n",
    "df = df[(df.G >= 50) & (df.MP >= 800) & (df.WS/48 > 0)]\n",
    "df = df.reset_index()\n",
    "df.to_csv('full_nba_data')\n",
    "df.head(5)"
   ]
  },
  {
   "cell_type": "code",
   "execution_count": 7,
   "metadata": {
    "collapsed": true
   },
   "outputs": [],
   "source": [
    "df_k_means = df[df_interesting_variables]\n",
    "df_k_means.to_csv('clustering_nba_data')"
   ]
  },
  {
   "cell_type": "markdown",
   "metadata": {},
   "source": [
    "### Clustering our players and creating group labels\n",
    "\n",
    "Chose 10 clusters because too few clusters (5-7) did not lead to good enough differentiation while too many clusters (13-18) lead to too much differentiation. 10 splits the difference well. "
   ]
  },
  {
   "cell_type": "code",
   "execution_count": 8,
   "metadata": {},
   "outputs": [
    {
     "data": {
      "text/plain": [
       "array([[  3.56332261,   7.84325425,   3.67772102, ...,  10.45145737,\n",
       "         10.70714706,   5.02250867],\n",
       "       [  2.49836828,   7.24564669,   3.84061743, ...,  11.09887219,\n",
       "         10.70085919,   5.70821354],\n",
       "       [  9.26047796,   4.11616408,   6.47334072, ...,   7.06909479,\n",
       "          4.23229336,   7.00997202],\n",
       "       ..., \n",
       "       [  3.46497425,   8.64435282,   4.4362572 , ...,  11.11002985,\n",
       "         11.48718358,   5.25931461],\n",
       "       [  5.38018047,   5.29422345,   3.57714362, ...,   8.09604362,\n",
       "          7.15397946,   4.77949839],\n",
       "       [  4.87547455,   4.00625033,   3.70094424, ...,   9.91357334,\n",
       "          8.05163245,   5.5730642 ]])"
      ]
     },
     "execution_count": 8,
     "metadata": {},
     "output_type": "execute_result"
    }
   ],
   "source": [
    "scaler = StandardScaler()\n",
    "kmeans = KMeans(n_clusters=clusters, random_state = seed)\n",
    "pipeline = make_pipeline(scaler, kmeans)\n",
    "pipeline.fit_transform(df_k_means)"
   ]
  },
  {
   "cell_type": "code",
   "execution_count": 9,
   "metadata": {
    "collapsed": true
   },
   "outputs": [],
   "source": [
    "labs = pipeline.predict(df_k_means)\n",
    "results_df = pd.concat([df[['Player','Pos','Tm',]], df_k_means], axis=1)\n",
    "results_df['label'] = labs.tolist()"
   ]
  },
  {
   "cell_type": "markdown",
   "metadata": {},
   "source": [
    "### Pulling and cleaning salary data"
   ]
  },
  {
   "cell_type": "code",
   "execution_count": 10,
   "metadata": {
    "collapsed": true
   },
   "outputs": [],
   "source": [
    "salaries = pd.read_html(salary_url, header=1)[0]\n",
    "salaries = salaries[salaries['Rk'] != 'Rk']\n",
    "salaries = salaries[['Player', '2018-19', 'Guaranteed']]"
   ]
  },
  {
   "cell_type": "code",
   "execution_count": 11,
   "metadata": {
    "collapsed": true
   },
   "outputs": [],
   "source": [
    "# removing commmas and dollar signs from the money columns\n",
    "for col in ['2018-19','Guaranteed']:\n",
    "    salaries[col] = salaries[col].replace('[\\$,]', '', regex=True).astype(float)"
   ]
  },
  {
   "cell_type": "code",
   "execution_count": 12,
   "metadata": {
    "collapsed": true
   },
   "outputs": [],
   "source": [
    "salaries.to_csv('player_salaries')\n",
    "salaries.head()"
   ]
  },
  {
   "cell_type": "code",
   "execution_count": 13,
   "metadata": {
    "collapsed": true
   },
   "outputs": [],
   "source": [
    "combined_df = pd.merge(results_df, salaries, how='left', left_on=['Player'], right_on=['Player'])"
   ]
  },
  {
   "cell_type": "code",
   "execution_count": 14,
   "metadata": {
    "collapsed": true
   },
   "outputs": [],
   "source": [
    "# we will the null salaries with 0. These players are either free agents who have not signed new deals yet, players \n",
    "# who wil be playing abroad, or potentially retirees\n",
    "combined_df = combined_df.fillna(0)\n",
    "combined_df.head()\n",
    "combined_df.to_csv('joined_nba_data')"
   ]
  }
 ],
 "metadata": {
  "kernelspec": {
   "display_name": "Python 3",
   "language": "python",
   "name": "python3"
  },
  "language_info": {
   "codemirror_mode": {
    "name": "ipython",
    "version": 3
   },
   "file_extension": ".py",
   "mimetype": "text/x-python",
   "name": "python",
   "nbconvert_exporter": "python",
   "pygments_lexer": "ipython3",
   "version": "3.6.3"
  }
 },
 "nbformat": 4,
 "nbformat_minor": 2
}
